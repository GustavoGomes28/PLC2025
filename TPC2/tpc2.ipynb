{
 "cells": [
  {
   "cell_type": "markdown",
   "id": "4bf117ce",
   "metadata": {},
   "source": [
    "# TPC3: Conversor de Markdown para HTML\n",
    "Neste notebook vamos criar um conversor simples de Markdown para HTML.\n",
    "Vamos implementar o tratamento de cabeçalhos, negrito, itálico e listas numeradas."
   ]
  },
  {
   "cell_type": "code",
   "execution_count": null,
   "id": "9f5fdfa2",
   "metadata": {},
   "outputs": [],
   "source": [
    "import re"
   ]
  },
  {
   "cell_type": "markdown",
   "id": "9c33662d",
   "metadata": {},
   "source": [
    "## 1. Função para converter Cabeçalhos\n",
    "\n",
    "Converte linhas que começam com `#`, `##` ou `###` em tags HTML `<h1>`, `<h2>` ou `<h3>`."
   ]
  },
  {
   "cell_type": "code",
   "execution_count": null,
   "id": "de4a5910",
   "metadata": {},
   "outputs": [],
   "source": [
    "def converter_cabecalhos(linha):\n",
    "    \"\"\"Converte cabeçalhos Markdown (#, ##, ###) para HTML (<h1>, <h2>, <h3>)\"\"\"\n",
    "    match = re.match(r'^(#{1,3})\\s+(.+)$', linha)\n",
    "    if match:\n",
    "        nivel = len(match.group(1))\n",
    "        texto = match.group(2)\n",
    "        return f'<h{nivel}>{texto}</h{nivel}>'\n",
    "    return linha"
   ]
  },
  {
   "cell_type": "markdown",
   "id": "419aee09",
   "metadata": {},
   "source": [
    "### Teste da função de cabeçalhos"
   ]
  },
  {
   "cell_type": "code",
   "execution_count": null,
   "id": "2d1501a5",
   "metadata": {},
   "outputs": [],
   "source": [
    "print(converter_cabecalhos(\"# Exemplo\"))\n",
    "print(converter_cabecalhos(\"## Subtítulo\"))\n",
    "print(converter_cabecalhos(\"### Subsubtítulo\"))"
   ]
  },
  {
   "cell_type": "markdown",
   "id": "83450eb5",
   "metadata": {},
   "source": [
    "## 2. Função para converter Negrito\n",
    "\n",
    "Converte trechos entre `**` em tags `<b>`."
   ]
  },
  {
   "cell_type": "code",
   "execution_count": null,
   "id": "d4e04e1d",
   "metadata": {},
   "outputs": [],
   "source": [
    "def converter_negrito(texto):\n",
    "    \"\"\"Converte **texto** para <b>texto</b>\"\"\"\n",
    "    return re.sub(r'\\*\\*(.+?)\\*\\*', r'<b>\\1</b>', texto)"
   ]
  },
  {
   "cell_type": "markdown",
   "id": "2b720524",
   "metadata": {},
   "source": [
    "### Teste da função de negrito"
   ]
  },
  {
   "cell_type": "code",
   "execution_count": null,
   "id": "c1afe4e4",
   "metadata": {},
   "outputs": [],
   "source": [
    "print(converter_negrito(\"Este é um **exemplo** de negrito\"))\n",
    "print(converter_negrito(\"**Tudo** em **negrito** aqui\"))"
   ]
  },
  {
   "cell_type": "markdown",
   "id": "4079aea1",
   "metadata": {},
   "source": [
    "## 3. Função para converter Itálico\n",
    "\n",
    "Converte trechos entre `*` (mas não `**`) em tags `<i>`."
   ]
  },
  {
   "cell_type": "code",
   "execution_count": null,
   "id": "ff862f6b",
   "metadata": {},
   "outputs": [],
   "source": [
    "def converter_italico(texto):\n",
    "    \"\"\"Converte *texto* para <i>texto</i>\"\"\"\n",
    "    # Cuidado: aplicar após negrito para evitar conflitos\n",
    "    return re.sub(r'(?<!\\*)\\*(?!\\*)(.+?)(?<!\\*)\\*(?!\\*)', r'<i>\\1</i>', texto)"
   ]
  },
  {
   "cell_type": "markdown",
   "id": "cf3d8322",
   "metadata": {},
   "source": [
    "### Teste da função de itálico"
   ]
  },
  {
   "cell_type": "code",
   "execution_count": null,
   "id": "29f44631",
   "metadata": {},
   "outputs": [],
   "source": [
    "print(converter_italico(\"Este é um *exemplo* de itálico\"))\n",
    "print(converter_italico(\"*Tudo* em *itálico* aqui\"))"
   ]
  },
  {
   "cell_type": "markdown",
   "id": "5055c0d5",
   "metadata": {},
   "source": [
    "## 4. Função para converter Listas Numeradas\n",
    "\n",
    "Converte sequências de linhas que começam com `1.`, `2.`, etc. em listas HTML `<ol>` e `<li>`."
   ]
  },
  {
   "cell_type": "code",
   "execution_count": null,
   "id": "f50774e4",
   "metadata": {},
   "outputs": [],
   "source": [
    "def converter_lista_numerada(linhas):\n",
    "    \"\"\"Converte lista numerada Markdown em HTML\"\"\"\n",
    "    resultado = []\n",
    "    em_lista = False\n",
    "    \n",
    "    for linha in linhas:\n",
    "        # Verifica se é item de lista numerada\n",
    "        match = re.match(r'^\\d+\\.\\s+(.+)$', linha)\n",
    "        \n",
    "        if match:\n",
    "            if not em_lista:\n",
    "                resultado.append('<ol>')\n",
    "                em_lista = True\n",
    "            resultado.append(f'<li>{match.group(1)}</li>')\n",
    "        else:\n",
    "            if em_lista:\n",
    "                resultado.append('</ol>')\n",
    "                em_lista = False\n",
    "            resultado.append(linha)\n",
    "    \n",
    "    # Fecha a lista se ainda estiver aberta\n",
    "    if em_lista:\n",
    "        resultado.append('</ol>')\n",
    "    \n",
    "    return resultado"
   ]
  },
  {
   "cell_type": "markdown",
   "id": "b12f2577",
   "metadata": {},
   "source": [
    "### Teste da função de listas numeradas"
   ]
  },
  {
   "cell_type": "code",
   "execution_count": null,
   "id": "0d798aea",
   "metadata": {},
   "outputs": [],
   "source": [
    "teste_lista = [\n",
    "    \"1. Primeiro item\",\n",
    "    \"2. Segundo item\",\n",
    "    \"3. Terceiro item\",\n",
    "    \"Texto normal após a lista\"\n",
    "]\n",
    "\n",
    "for linha in converter_lista_numerada(teste_lista):\n",
    "    print(linha)"
   ]
  },
  {
   "cell_type": "markdown",
   "id": "335b3a41",
   "metadata": {},
   "source": [
    "## 5. Conversor Completo\n",
    "\n",
    "Junta todas as funções anteriores num conversor que processa texto Markdown completo."
   ]
  },
  {
   "cell_type": "code",
   "execution_count": null,
   "id": "d1c8f9dc",
   "metadata": {},
   "outputs": [],
   "source": [
    "def markdown_para_html(texto_markdown):\n",
    "    \"\"\"Converte texto Markdown para HTML\"\"\"\n",
    "    # Divide em linhas\n",
    "    linhas = texto_markdown.split('\\n')\n",
    "    \n",
    "    # Processa listas numeradas primeiro (trabalha com múltiplas linhas)\n",
    "    linhas = converter_lista_numerada(linhas)\n",
    "    \n",
    "    # Processa cada linha\n",
    "    resultado = []\n",
    "    for linha in linhas:\n",
    "        # Cabeçalhos\n",
    "        linha = converter_cabecalhos(linha)\n",
    "        \n",
    "        # Negrito (antes de itálico para evitar conflitos)\n",
    "        linha = converter_negrito(linha)\n",
    "        \n",
    "        # Itálico\n",
    "        linha = converter_italico(linha)\n",
    "        \n",
    "        resultado.append(linha)\n",
    "    \n",
    "    return '\\n'.join(resultado)"
   ]
  },
  {
   "cell_type": "markdown",
   "id": "e773e637",
   "metadata": {},
   "source": [
    "## 6. Teste Completo do Conversor\n",
    "\n",
    "Vamos testar com um exemplo que combina todos os elementos."
   ]
  },
  {
   "cell_type": "code",
   "execution_count": null,
   "id": "e1c40266",
   "metadata": {},
   "outputs": [],
   "source": [
    "texto_teste = \"\"\"# Título Principal\n",
    "Este é um parágrafo com **negrito** e *itálico*.\n",
    "\n",
    "## Subtítulo\n",
    "Mais um parágrafo com **texto em negrito** e *texto em itálico*.\n",
    "\n",
    "### Lista de Tarefas\n",
    "1. Primeiro item da lista\n",
    "2. Segundo item com **negrito**\n",
    "3. Terceiro item com *itálico*\n",
    "\n",
    "Texto final após a lista.\"\"\"\n",
    "\n",
    "print(\"=== MARKDOWN ===\")\n",
    "print(texto_teste)\n",
    "print(\"\\n=== HTML ===\")\n",
    "print(markdown_para_html(texto_teste))"
   ]
  }
 ],
 "metadata": {
  "kernelspec": {
   "display_name": "logica",
   "language": "python",
   "name": "python3"
  },
  "language_info": {
   "name": "python",
   "version": "3.10.18"
  }
 },
 "nbformat": 4,
 "nbformat_minor": 5
}
