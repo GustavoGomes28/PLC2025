{
 "cells": [
  {
   "cell_type": "code",
   "execution_count": 1,
   "id": "dcfb2e35",
   "metadata": {},
   "outputs": [
    {
     "name": "stdout",
     "output_type": "stream",
     "text": [
      "('SELECT', 'SELECT', 1, (0, 6))\n",
      "('VAR', '?a', 1, (7, 9))\n",
      "('VAR', '?b', 1, (10, 12))\n",
      "('VAR', '?c', 1, (13, 15))\n",
      "('WHERE', 'WHERE', 1, (16, 21))\n",
      "('PUNCT', '{', 2, (23, 24))\n",
      "('VAR', '?a', 3, (27, 29))\n",
      "('ERRO', 'a', 3, (30, 31))\n",
      "('IDENT', ':Pessoa', 3, (32, 39))\n",
      "('PUNCT', ';', 3, (40, 41))\n",
      "('IDENT', ':Joga', 4, (47, 52))\n",
      "('VAR', '?b', 4, (53, 55))\n",
      "('PUNCT', ';', 4, (56, 57))\n",
      "('IDENT', ':Clube', 5, (63, 69))\n",
      "('VAR', '?c', 5, (70, 72))\n",
      "('PUNCT', '.', 5, (73, 74))\n",
      "('PUNCT', '}', 6, (75, 76))\n"
     ]
    }
   ],
   "source": [
    "import re\n",
    "\n",
    "query = \"\"\"SELECT ?a ?b ?c WHERE \n",
    "{\n",
    "  ?a a :Pessoa ;\n",
    "     :Joga ?b ;\n",
    "     :Clube ?c .\n",
    "}\n",
    "\"\"\"\n",
    "\n",
    "def tokenizer(query):\n",
    "    tokens = [\n",
    "        ('NEWLINE', r'\\n'),\n",
    "        ('SKIP', r'[ \\t]+'),\n",
    "        ('PREFIX', r'PREFIX\\b'),\n",
    "        ('SELECT', r'SELECT\\b'),\n",
    "        ('WHERE', r'WHERE\\b'),\n",
    "        ('OPTIONAL', r'OPTIONAL\\b'),\n",
    "        ('FILTER', r'FILTER\\b'),\n",
    "        ('VAR', r'\\?[a-zA-Z_][\\w]*'),\n",
    "        ('URI', r'<[^>]*>'),\n",
    "        ('IDENT', r':[a-zA-Z_][\\w]*'),\n",
    "        ('INT', r'\\d+'),\n",
    "        ('STRING', r'\"[^\"]*\"'),\n",
    "        ('OP', r'[=!<>]+'),\n",
    "        ('PUNCT', r'[{}.;,]'),\n",
    "        ('ERRO', r'.')\n",
    "    ]\n",
    "\n",
    "    line = 1\n",
    "    tokens_encontrados = []\n",
    "    pattern = '|'.join(f'(?P<{name}>{pattern})' for name, pattern in tokens)\n",
    "    \n",
    "    for match in re.finditer(pattern, query):\n",
    "        tipo = match.lastgroup\n",
    "        valor = match.group()\n",
    "        \n",
    "        if tipo == 'NEWLINE':\n",
    "            line += 1\n",
    "        elif tipo != 'SKIP':\n",
    "            tokens_encontrados.append((tipo, valor, line, match.span()))\n",
    "\n",
    "    return tokens_encontrados\n",
    "\n",
    "# Teste\n",
    "resultado = tokenizer(query)\n",
    "for token in resultado:\n",
    "    print(token)"
   ]
  },
  {
   "cell_type": "markdown",
   "id": "8b72fddf",
   "metadata": {},
   "source": [
    "Output :('SELECT', 'SELECT', 1, (0, 6))\n",
    "        ('VAR', '?a', 1, (7, 9))\n",
    "        ('VAR', '?b', 1, (10, 12))\n",
    "        ('VAR', '?c', 1, (13, 15))\n",
    "        ('WHERE', 'WHERE', 1, (16, 21))\n",
    "        ('PUNCT', '{', 2, (23, 24))\n",
    "        ('VAR', '?a', 3, (27, 29))\n",
    "        ('ERRO', 'a', 3, (30, 31))\n",
    "        ('IDENT', ':Pessoa', 3, (32, 39))\n",
    "        ('PUNCT', ';', 3, (40, 41))\n",
    "        ('IDENT', ':Joga', 4, (47, 52))\n",
    "        ('VAR', '?b', 4, (53, 55))\n",
    "        ('PUNCT', ';', 4, (56, 57))\n",
    "        ('IDENT', ':Clube', 5, (63, 69))\n",
    "        ('VAR', '?c', 5, (70, 72))\n",
    "        ('PUNCT', '.', 5, (73, 74))\n",
    "        ('PUNCT', '}', 6, (75, 76))"
   ]
  }
 ],
 "metadata": {
  "kernelspec": {
   "display_name": "logica",
   "language": "python",
   "name": "python3"
  },
  "language_info": {
   "codemirror_mode": {
    "name": "ipython",
    "version": 3
   },
   "file_extension": ".py",
   "mimetype": "text/x-python",
   "name": "python",
   "nbconvert_exporter": "python",
   "pygments_lexer": "ipython3",
   "version": "3.10.18"
  }
 },
 "nbformat": 4,
 "nbformat_minor": 5
}
